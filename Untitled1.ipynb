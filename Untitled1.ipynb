{
 "cells": [
  {
   "cell_type": "code",
   "execution_count": 13,
   "metadata": {},
   "outputs": [],
   "source": [
    "import pandas as pd\n",
    "import numpy as np\n",
    "import os\n",
    "import re\n",
    "\n",
    "import sys\n",
    "import csv"
   ]
  },
  {
   "cell_type": "code",
   "execution_count": 7,
   "metadata": {},
   "outputs": [],
   "source": [
    "csv_list = os.listdir('data/')"
   ]
  },
  {
   "cell_type": "code",
   "execution_count": 64,
   "metadata": {},
   "outputs": [],
   "source": [
    "df1 = pd.read_csv('data/머드 로션.csv' , encoding='utf-8', engine='python')\n",
    "df2 = pd.read_csv('data/머드 마스크팩.csv' , encoding='utf-8', engine='python')\n",
    "df3 = pd.read_csv('data/머드 바드클렌저.csv' , encoding='utf-8', engine='python')\n",
    "df4 = pd.read_csv('data/머드 비누.csv' , encoding='utf-8', engine='python')\n",
    "df5 = pd.read_csv('data/머드 샴푸.csv' , encoding='utf-8', engine='python')\n",
    "df6 = pd.read_csv('data/머드 에센스.csv' , encoding='utf-8', engine='python')\n",
    "df7 = pd.read_csv('data/머드 원액.csv' , encoding='utf-8', engine='python')\n",
    "df8 = pd.read_csv('data/머드 제품.csv' , encoding='utf-8', engine='python')\n",
    "df9 = pd.read_csv('data/머드 컨디셔너.csv' , encoding='utf-8', engine='python')\n",
    "df10 = pd.read_csv('data/머드 크렌징.csv' , encoding='utf-8', engine='python')\n",
    "df11 = pd.read_csv('data/머드 크림.csv ' , encoding='utf-8', engine='python')\n",
    "df12 = pd.read_csv('data/머드 파우더.csv' , encoding='utf-8', engine='python')\n",
    "df13 = pd.read_csv('data/머드 팩.csv' , encoding='utf-8', engine='python')\n",
    "df14 = pd.read_csv('data/머드 화장품.csv' , encoding='utf-8', engine='python')"
   ]
  },
  {
   "cell_type": "code",
   "execution_count": 65,
   "metadata": {},
   "outputs": [
    {
     "name": "stdout",
     "output_type": "stream",
     "text": [
      "999\n",
      "960\n"
     ]
    }
   ],
   "source": [
    "print(len(df1))\n",
    "df1 = df1[df1['title'].notnull()]\n",
    "df1 = df1[df1['writedate'].notnull()]\n",
    "df1 = df1[df1['maincontant'].notnull()]\n",
    "print(len(df1))"
   ]
  },
  {
   "cell_type": "code",
   "execution_count": 67,
   "metadata": {},
   "outputs": [
    {
     "name": "stdout",
     "output_type": "stream",
     "text": [
      "987\n",
      "987\n"
     ]
    }
   ],
   "source": [
    "print(len(df2))\n",
    "df2 = df2[df2['title'].notnull()]\n",
    "df2 = df2[df2['writedate'].notnull()]\n",
    "df2 = df2[df2['maincontant'].notnull()]\n",
    "print(len(df2))"
   ]
  },
  {
   "cell_type": "code",
   "execution_count": 68,
   "metadata": {},
   "outputs": [
    {
     "name": "stdout",
     "output_type": "stream",
     "text": [
      "837\n",
      "789\n"
     ]
    }
   ],
   "source": [
    "print(len(df3))\n",
    "df3 = df3[df3['title'].notnull()]\n",
    "df3 = df3[df3['writedate'].notnull()]\n",
    "df3 = df3[df3['maincontant'].notnull()]\n",
    "print(len(df3))"
   ]
  },
  {
   "cell_type": "code",
   "execution_count": 69,
   "metadata": {},
   "outputs": [
    {
     "name": "stdout",
     "output_type": "stream",
     "text": [
      "999\n",
      "945\n"
     ]
    }
   ],
   "source": [
    "print(len(df4))\n",
    "df4 = df4[df4['title'].notnull()]\n",
    "df4 = df4[df4['writedate'].notnull()]\n",
    "df4 = df4[df4['maincontant'].notnull()]\n",
    "print(len(df4))"
   ]
  },
  {
   "cell_type": "code",
   "execution_count": 70,
   "metadata": {},
   "outputs": [
    {
     "name": "stdout",
     "output_type": "stream",
     "text": [
      "1000\n",
      "981\n"
     ]
    }
   ],
   "source": [
    "print(len(df5))\n",
    "df5 = df5[df5['title'].notnull()]\n",
    "df5 = df5[df5['writedate'].notnull()]\n",
    "df5 = df5[df5['maincontant'].notnull()]\n",
    "print(len(df5))"
   ]
  },
  {
   "cell_type": "code",
   "execution_count": 71,
   "metadata": {},
   "outputs": [
    {
     "name": "stdout",
     "output_type": "stream",
     "text": [
      "187\n",
      "181\n"
     ]
    }
   ],
   "source": [
    "print(len(df6))\n",
    "df6 = df6[df6['title'].notnull()]\n",
    "df6 = df6[df6['writedate'].notnull()]\n",
    "df6 = df6[df6['maincontant'].notnull()]\n",
    "print(len(df6))"
   ]
  },
  {
   "cell_type": "code",
   "execution_count": 72,
   "metadata": {},
   "outputs": [
    {
     "name": "stdout",
     "output_type": "stream",
     "text": [
      "179\n",
      "179\n"
     ]
    }
   ],
   "source": [
    "print(len(df7))\n",
    "df7 = df7[df7['title'].notnull()]\n",
    "df7 = df7[df7['writedate'].notnull()]\n",
    "df7 = df7[df7['maincontant'].notnull()]\n",
    "print(len(df7))"
   ]
  },
  {
   "cell_type": "code",
   "execution_count": 73,
   "metadata": {},
   "outputs": [
    {
     "name": "stdout",
     "output_type": "stream",
     "text": [
      "582\n",
      "570\n"
     ]
    }
   ],
   "source": [
    "print(len(df8))\n",
    "df8 = df8[df8['title'].notnull()]\n",
    "df8 = df8[df8['writedate'].notnull()]\n",
    "df8 = df8[df8['maincontant'].notnull()]\n",
    "print(len(df8))"
   ]
  },
  {
   "cell_type": "code",
   "execution_count": 74,
   "metadata": {},
   "outputs": [
    {
     "name": "stdout",
     "output_type": "stream",
     "text": [
      "800\n",
      "778\n"
     ]
    }
   ],
   "source": [
    "print(len(df9))\n",
    "df9 = df9[df9['title'].notnull()]\n",
    "df9 = df9[df9['writedate'].notnull()]\n",
    "df9 = df9[df9['maincontant'].notnull()]\n",
    "print(len(df9))"
   ]
  },
  {
   "cell_type": "code",
   "execution_count": 75,
   "metadata": {},
   "outputs": [
    {
     "name": "stdout",
     "output_type": "stream",
     "text": [
      "28\n",
      "27\n"
     ]
    }
   ],
   "source": [
    "print(len(df10))\n",
    "df10 = df10[df10['title'].notnull()]\n",
    "df10 = df10[df10['writedate'].notnull()]\n",
    "df10 = df10[df10['maincontant'].notnull()]\n",
    "print(len(df10))"
   ]
  },
  {
   "cell_type": "code",
   "execution_count": 76,
   "metadata": {},
   "outputs": [
    {
     "name": "stdout",
     "output_type": "stream",
     "text": [
      "999\n",
      "981\n"
     ]
    }
   ],
   "source": [
    "print(len(df11))\n",
    "df11 = df11[df11['title'].notnull()]\n",
    "df11 = df11[df11['writedate'].notnull()]\n",
    "df11 = df11[df11['maincontant'].notnull()]\n",
    "print(len(df11))"
   ]
  },
  {
   "cell_type": "code",
   "execution_count": 77,
   "metadata": {},
   "outputs": [
    {
     "name": "stdout",
     "output_type": "stream",
     "text": [
      "1000\n",
      "979\n"
     ]
    }
   ],
   "source": [
    "print(len(df12))\n",
    "df12 = df12[df12['title'].notnull()]\n",
    "df12 = df12[df12['writedate'].notnull()]\n",
    "df12 = df12[df12['maincontant'].notnull()]\n",
    "print(len(df12))"
   ]
  },
  {
   "cell_type": "code",
   "execution_count": 78,
   "metadata": {},
   "outputs": [
    {
     "name": "stdout",
     "output_type": "stream",
     "text": [
      "1000\n",
      "994\n"
     ]
    }
   ],
   "source": [
    "print(len(df13))\n",
    "df13 = df13[df13['title'].notnull()]\n",
    "df13 = df13[df13['writedate'].notnull()]\n",
    "df13 = df13[df13['maincontant'].notnull()]\n",
    "print(len(df13))"
   ]
  },
  {
   "cell_type": "code",
   "execution_count": 79,
   "metadata": {},
   "outputs": [
    {
     "name": "stdout",
     "output_type": "stream",
     "text": [
      "999\n",
      "978\n"
     ]
    }
   ],
   "source": [
    "print(len(df14))\n",
    "df14 = df14[df14['title'].notnull()]\n",
    "df14 = df14[df14['writedate'].notnull()]\n",
    "df14 = df14[df14['maincontant'].notnull()]\n",
    "print(len(df14))"
   ]
  },
  {
   "cell_type": "code",
   "execution_count": 80,
   "metadata": {},
   "outputs": [],
   "source": [
    "def normalize(x):\n",
    "    return re.sub('[^0-9-a-zA-Z가-힣 .]+', '', x)"
   ]
  },
  {
   "cell_type": "code",
   "execution_count": 83,
   "metadata": {},
   "outputs": [],
   "source": [
    "df1['title'] = df1['title'].apply(lambda x: normalize(x))\n",
    "df1['maincontant'] = df1['maincontant'].apply(lambda x: normalize(x))"
   ]
  },
  {
   "cell_type": "code",
   "execution_count": 84,
   "metadata": {},
   "outputs": [],
   "source": [
    "df2['title'] =       df2['title'].apply(lambda x: normalize(x))\n",
    "df2['maincontant'] = df2['maincontant'].apply(lambda x: normalize(x))"
   ]
  },
  {
   "cell_type": "code",
   "execution_count": 85,
   "metadata": {},
   "outputs": [],
   "source": [
    "df3['title'] =       df3['title'].apply(lambda x: normalize(x))\n",
    "df3['maincontant'] = df3['maincontant'].apply(lambda x: normalize(x))"
   ]
  },
  {
   "cell_type": "code",
   "execution_count": 86,
   "metadata": {},
   "outputs": [],
   "source": [
    "df4['title'] =       df4['title'].apply(lambda x: normalize(x))\n",
    "df4['maincontant'] = df4['maincontant'].apply(lambda x: normalize(x))"
   ]
  },
  {
   "cell_type": "code",
   "execution_count": 87,
   "metadata": {},
   "outputs": [],
   "source": [
    "df5['title'] =       df5['title'].apply(lambda x: normalize(x))\n",
    "df5['maincontant'] = df5['maincontant'].apply(lambda x: normalize(x))"
   ]
  },
  {
   "cell_type": "code",
   "execution_count": 88,
   "metadata": {},
   "outputs": [],
   "source": [
    "df6['title'] =       df6['title'].apply(lambda x: normalize(x))\n",
    "df6['maincontant'] = df6['maincontant'].apply(lambda x: normalize(x))"
   ]
  },
  {
   "cell_type": "code",
   "execution_count": 89,
   "metadata": {},
   "outputs": [],
   "source": [
    "df7['title'] =       df7['title'].apply(lambda x: normalize(x))\n",
    "df7['maincontant'] = df7['maincontant'].apply(lambda x: normalize(x))"
   ]
  },
  {
   "cell_type": "code",
   "execution_count": 90,
   "metadata": {},
   "outputs": [],
   "source": [
    "df8['title'] =       df8['title'].apply(lambda x: normalize(x))\n",
    "df8['maincontant'] = df8['maincontant'].apply(lambda x: normalize(x))"
   ]
  },
  {
   "cell_type": "code",
   "execution_count": 91,
   "metadata": {},
   "outputs": [],
   "source": [
    "df9['title'] =       df9['title'].apply(lambda x: normalize(x))\n",
    "df9['maincontant'] = df9['maincontant'].apply(lambda x: normalize(x))"
   ]
  },
  {
   "cell_type": "code",
   "execution_count": 92,
   "metadata": {},
   "outputs": [],
   "source": [
    "df10['title'] =       df10['title'].apply(lambda x: normalize(x))\n",
    "df10['maincontant'] = df10['maincontant'].apply(lambda x: normalize(x))"
   ]
  },
  {
   "cell_type": "code",
   "execution_count": 93,
   "metadata": {},
   "outputs": [],
   "source": [
    "df11['title'] = df11['title'].apply(lambda x: normalize(x))\n",
    "df11['maincontant'] = df11['maincontant'].apply(lambda x: normalize(x))"
   ]
  },
  {
   "cell_type": "code",
   "execution_count": 94,
   "metadata": {},
   "outputs": [],
   "source": [
    "df12['title'] = df12['title'].apply(lambda x: normalize(x))\n",
    "df12['maincontant'] = df12['maincontant'].apply(lambda x: normalize(x))"
   ]
  },
  {
   "cell_type": "code",
   "execution_count": 95,
   "metadata": {},
   "outputs": [],
   "source": [
    "df13['title'] = df13['title'].apply(lambda x: normalize(x))\n",
    "df13['maincontant'] = df13['maincontant'].apply(lambda x: normalize(x))"
   ]
  },
  {
   "cell_type": "code",
   "execution_count": 96,
   "metadata": {},
   "outputs": [],
   "source": [
    "df14['title'] = df14['title'].apply(lambda x: normalize(x))\n",
    "df14['maincontant'] = df14['maincontant'].apply(lambda x: normalize(x))"
   ]
  },
  {
   "cell_type": "code",
   "execution_count": 98,
   "metadata": {},
   "outputs": [],
   "source": [
    "df_list = [df1, df2, df3, df4, df5, df6, df7, df8, df9, df10, df11, df12, df13, df14]"
   ]
  },
  {
   "cell_type": "code",
   "execution_count": 99,
   "metadata": {},
   "outputs": [
    {
     "name": "stdout",
     "output_type": "stream",
     "text": [
      "14\n",
      "14\n"
     ]
    }
   ],
   "source": [
    "print(len(df_list))\n",
    "print(len(csv_list))"
   ]
  },
  {
   "cell_type": "code",
   "execution_count": 100,
   "metadata": {},
   "outputs": [],
   "source": [
    "for i in range(len(df_list)):\n",
    "    df_list[i].to_csv(\"가공 data/\"+csv_list[i], encoding='utf-8', index=False)"
   ]
  },
  {
   "cell_type": "code",
   "execution_count": null,
   "metadata": {},
   "outputs": [],
   "source": []
  }
 ],
 "metadata": {
  "kernelspec": {
   "display_name": "Python 3",
   "language": "python",
   "name": "python3"
  },
  "language_info": {
   "codemirror_mode": {
    "name": "ipython",
    "version": 3
   },
   "file_extension": ".py",
   "mimetype": "text/x-python",
   "name": "python",
   "nbconvert_exporter": "python",
   "pygments_lexer": "ipython3",
   "version": "3.7.9"
  }
 },
 "nbformat": 4,
 "nbformat_minor": 4
}
