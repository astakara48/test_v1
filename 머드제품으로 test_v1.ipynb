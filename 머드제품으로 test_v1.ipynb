{
 "cells": [
  {
   "cell_type": "code",
   "execution_count": 12,
   "metadata": {},
   "outputs": [],
   "source": [
    "import pandas as pd\n",
    "import konlpy\n",
    "import rhinoMorph\n",
    "from konlpy.tag import *\n",
    "\n",
    "import warnings\n",
    "warnings.filterwarnings(\"ignore\")"
   ]
  },
  {
   "cell_type": "code",
   "execution_count": 2,
   "metadata": {},
   "outputs": [],
   "source": [
    "df = pd.read_csv(\"머드제품 1500개.csv\", encoding='utf-8', engine='python')"
   ]
  },
  {
   "cell_type": "code",
   "execution_count": 3,
   "metadata": {},
   "outputs": [
    {
     "data": {
      "text/html": [
       "<div>\n",
       "<style scoped>\n",
       "    .dataframe tbody tr th:only-of-type {\n",
       "        vertical-align: middle;\n",
       "    }\n",
       "\n",
       "    .dataframe tbody tr th {\n",
       "        vertical-align: top;\n",
       "    }\n",
       "\n",
       "    .dataframe thead th {\n",
       "        text-align: right;\n",
       "    }\n",
       "</style>\n",
       "<table border=\"1\" class=\"dataframe\">\n",
       "  <thead>\n",
       "    <tr style=\"text-align: right;\">\n",
       "      <th></th>\n",
       "      <th>title</th>\n",
       "      <th>blogurl</th>\n",
       "      <th>writedate</th>\n",
       "      <th>maincontant</th>\n",
       "    </tr>\n",
       "  </thead>\n",
       "  <tbody>\n",
       "    <tr>\n",
       "      <th>0</th>\n",
       "      <td>참조은머드 천연머드팩으로 피부관리해요</td>\n",
       "      <td>https://blog.naver.com/my_way1223?Redirect=Log...</td>\n",
       "      <td>20201223</td>\n",
       "      <td>안녕하세요- 송수니입니다겨울철 피부관리 어떻게 하시나요저는 집에만 있다보니까 세수도...</td>\n",
       "    </tr>\n",
       "    <tr>\n",
       "      <th>1</th>\n",
       "      <td>보령 대천한화리조트 겨울방학 아이와 함께 가볼만한 가족여행 숙소</td>\n",
       "      <td>https://blog.naver.com/easeclub1?Redirect=Log&amp;...</td>\n",
       "      <td>20201223</td>\n",
       "      <td>이제 신나는 겨울방학이 시작되는 2020년 마지막 달 12월이지만 사회적 거리두기 ...</td>\n",
       "    </tr>\n",
       "    <tr>\n",
       "      <th>2</th>\n",
       "      <td>클렌징오일 피지 제거하고 말끔하게</td>\n",
       "      <td>https://blog.naver.com/loveyunhi?Redirect=Log&amp;...</td>\n",
       "      <td>20201222</td>\n",
       "      <td>최근에 미세먼지가 기승을 부리면서 얼굴이 다 뒤집어져버렸지 뭐예요 트러블도 많이 ...</td>\n",
       "    </tr>\n",
       "    <tr>\n",
       "      <th>3</th>\n",
       "      <td>끈적이지 않아 핸드로션  바디로션으로도 좋은 보쉐VOESH</td>\n",
       "      <td>https://blog.naver.com/bora871217?Redirect=Log...</td>\n",
       "      <td>20201222</td>\n",
       "      <td>개인위생이 중요해지면서하루에도 손을 56번을닦게 되는 것 같아요 어느덧 손 닦기가 ...</td>\n",
       "    </tr>\n",
       "    <tr>\n",
       "      <th>4</th>\n",
       "      <td>향이 예술..  딸라스파 7차 연말 홈캉스</td>\n",
       "      <td>https://blog.naver.com/ree_0311?Redirect=Log&amp;l...</td>\n",
       "      <td>20201222</td>\n",
       "      <td>안뇽하세요어느덧 다가온 2020년 끝자락.올해 마지막 딸라스파 공구가 왔습니다7차수...</td>\n",
       "    </tr>\n",
       "    <tr>\n",
       "      <th>...</th>\n",
       "      <td>...</td>\n",
       "      <td>...</td>\n",
       "      <td>...</td>\n",
       "      <td>...</td>\n",
       "    </tr>\n",
       "    <tr>\n",
       "      <th>1495</th>\n",
       "      <td>실내온수수영장이 있는 서해풀빌라  라바풀빌라</td>\n",
       "      <td>https://blog.naver.com/brjb2900?Redirect=Log&amp;l...</td>\n",
       "      <td>20180108</td>\n",
       "      <td>실내온수수영장 이 있는 서해풀빌라 라바풀빌라 에서 황홀한 하룻밤 보내고 왔어요..라...</td>\n",
       "    </tr>\n",
       "    <tr>\n",
       "      <th>1496</th>\n",
       "      <td>뉴질랜드 청정해역에서 잡은 푸른홍합으로 만들어 무릎관절에 좋다는 키위내추럴헬스 초록...</td>\n",
       "      <td>https://blog.naver.com/sjg29kr?Redirect=Log&amp;lo...</td>\n",
       "      <td>20180106</td>\n",
       "      <td>작년 말.장모님께서 무릎이 아파 고생하시던 중지인분의 추천으로 드신다는 약을 한번 ...</td>\n",
       "    </tr>\n",
       "    <tr>\n",
       "      <th>1497</th>\n",
       "      <td>포메라이언 - 둥이 2cm 스포팅</td>\n",
       "      <td>https://blog.naver.com/kkki010?Redirect=Log&amp;lo...</td>\n",
       "      <td>20180106</td>\n",
       "      <td>안녕하세요바비숑펫살롱 입니다오픈 첫날 두번째 손님은바로 포메라이언 둥이라는 친구에용...</td>\n",
       "    </tr>\n",
       "    <tr>\n",
       "      <th>1498</th>\n",
       "      <td>피부 좋아지는 법 머드팩 모공케어하자</td>\n",
       "      <td>https://blog.naver.com/ssopiya?Redirect=Log&amp;lo...</td>\n",
       "      <td>20180104</td>\n",
       "      <td>피부 좋아지는 법 참조은머드 머드팩하기저는 학생때부터 워낙에 여드름을 달고 살았던 ...</td>\n",
       "    </tr>\n",
       "    <tr>\n",
       "      <th>1499</th>\n",
       "      <td>당김없는 머드 마스크팩 paparecipe eggplant clearing mud ...</td>\n",
       "      <td>https://blog.naver.com/grace2709?Redirect=Log&amp;...</td>\n",
       "      <td>20180102</td>\n",
       "      <td>paparecipe eggplant clearing mud cream mask 파파...</td>\n",
       "    </tr>\n",
       "  </tbody>\n",
       "</table>\n",
       "<p>1500 rows × 4 columns</p>\n",
       "</div>"
      ],
      "text/plain": [
       "                                                  title  \\\n",
       "0                                 참조은머드 천연머드팩으로 피부관리해요    \n",
       "1                  보령 대천한화리조트 겨울방학 아이와 함께 가볼만한 가족여행 숙소    \n",
       "2                                   클렌징오일 피지 제거하고 말끔하게    \n",
       "3                     끈적이지 않아 핸드로션  바디로션으로도 좋은 보쉐VOESH    \n",
       "4                             향이 예술..  딸라스파 7차 연말 홈캉스     \n",
       "...                                                 ...   \n",
       "1495                           실내온수수영장이 있는 서해풀빌라  라바풀빌라   \n",
       "1496  뉴질랜드 청정해역에서 잡은 푸른홍합으로 만들어 무릎관절에 좋다는 키위내추럴헬스 초록...   \n",
       "1497                                 포메라이언 - 둥이 2cm 스포팅   \n",
       "1498                               피부 좋아지는 법 머드팩 모공케어하자   \n",
       "1499  당김없는 머드 마스크팩 paparecipe eggplant clearing mud ...   \n",
       "\n",
       "                                                blogurl  writedate  \\\n",
       "0     https://blog.naver.com/my_way1223?Redirect=Log...   20201223   \n",
       "1     https://blog.naver.com/easeclub1?Redirect=Log&...   20201223   \n",
       "2     https://blog.naver.com/loveyunhi?Redirect=Log&...   20201222   \n",
       "3     https://blog.naver.com/bora871217?Redirect=Log...   20201222   \n",
       "4     https://blog.naver.com/ree_0311?Redirect=Log&l...   20201222   \n",
       "...                                                 ...        ...   \n",
       "1495  https://blog.naver.com/brjb2900?Redirect=Log&l...   20180108   \n",
       "1496  https://blog.naver.com/sjg29kr?Redirect=Log&lo...   20180106   \n",
       "1497  https://blog.naver.com/kkki010?Redirect=Log&lo...   20180106   \n",
       "1498  https://blog.naver.com/ssopiya?Redirect=Log&lo...   20180104   \n",
       "1499  https://blog.naver.com/grace2709?Redirect=Log&...   20180102   \n",
       "\n",
       "                                            maincontant  \n",
       "0     안녕하세요- 송수니입니다겨울철 피부관리 어떻게 하시나요저는 집에만 있다보니까 세수도...  \n",
       "1     이제 신나는 겨울방학이 시작되는 2020년 마지막 달 12월이지만 사회적 거리두기 ...  \n",
       "2      최근에 미세먼지가 기승을 부리면서 얼굴이 다 뒤집어져버렸지 뭐예요 트러블도 많이 ...  \n",
       "3     개인위생이 중요해지면서하루에도 손을 56번을닦게 되는 것 같아요 어느덧 손 닦기가 ...  \n",
       "4     안뇽하세요어느덧 다가온 2020년 끝자락.올해 마지막 딸라스파 공구가 왔습니다7차수...  \n",
       "...                                                 ...  \n",
       "1495  실내온수수영장 이 있는 서해풀빌라 라바풀빌라 에서 황홀한 하룻밤 보내고 왔어요..라...  \n",
       "1496  작년 말.장모님께서 무릎이 아파 고생하시던 중지인분의 추천으로 드신다는 약을 한번 ...  \n",
       "1497  안녕하세요바비숑펫살롱 입니다오픈 첫날 두번째 손님은바로 포메라이언 둥이라는 친구에용...  \n",
       "1498  피부 좋아지는 법 참조은머드 머드팩하기저는 학생때부터 워낙에 여드름을 달고 살았던 ...  \n",
       "1499  paparecipe eggplant clearing mud cream mask 파파...  \n",
       "\n",
       "[1500 rows x 4 columns]"
      ]
     },
     "execution_count": 3,
     "metadata": {},
     "output_type": "execute_result"
    }
   ],
   "source": [
    "df"
   ]
  },
  {
   "cell_type": "code",
   "execution_count": 3,
   "metadata": {},
   "outputs": [],
   "source": [
    "hannanum = Hannanum()\n",
    "kkma = Kkma()\n",
    "komoran = Komoran()\n",
    "okt = Okt()"
   ]
  },
  {
   "cell_type": "code",
   "execution_count": 4,
   "metadata": {},
   "outputs": [],
   "source": [
    "test = df['maincontant'][0]"
   ]
  },
  {
   "cell_type": "code",
   "execution_count": 19,
   "metadata": {},
   "outputs": [
    {
     "data": {
      "text/plain": [
       "'안녕, 송수니입니다겨울철, 피부관리, 하시나요저, 집, 있다보, 세수, 안, 로션, 안바르고기본, 안, 거울, 피부, 왜이래이렇, 큰일나겠더라고요그래서, 이번, 오랜만, 머드팩, 한번, 참조은머드머드팩, 한국, 남해바다속, 발굴, 청정, 해저천연머드가99이상, 함유, 천연원액, 머드팩유해성분, 화학성분, 화학방부제, 제, 하니정말, 사용, 수, 참조은머드, 그린펄, 천연머드, 특유, 삼투압현상이매우, 강력, 발휘, 딥클렌징, 영양공급, 수행하여모든, 피부트러블, 케어할, 수, 멀티기능, 천연팩이에요청소년기, 트러블, 중장년층, 트러블, 도움, 된다고하니하, 가족, 사용, 수, 근데, 양, 얼마, 안됨90g, 참조은머드, 그린펄, 강력한, 리프팅, 보습, 기능, 발휘, 탄력, 피부, 해요리프팅뿐만아니, 블랙헤드, 과잉피, 모공, 각질제거까지한번, 케어가능하네요그리, 민감성, 피부, 들, 사용가능, 천연머드팩, 저, 예민한, 편, 제품, 트러블, 날까봐, 걱정, 편인데그린펄, 사용방법, 세안, 후, 얼굴, 펴바르, 끝건조시킨, 후, 30분60분, 사이, 미온수, 민감성, 피부, 반건조하, 처음, 깜짝놀랐어요손등, 묽더라고요원래, 이런건, 처음, 이런거, 사용하다보명, 덩어리, 나온답니다그래, 들, 모르니화장실, 해보세요저, 테이블, 바닥, 저, 얼굴, 전체, 40분, 정도, 기다렸어요, 이거, 저만그런건지, 간지러웠어요그래서, 여러번, 물, 고민했는데그래, 참아냈답니다시간, 간지러움, 없어지더라고요근데, 간지러움, 느낌진심, 어느정도냐, 눈, 자연, 수, 없어요이정도, 팩, 처음이었네요뭔, 되가, 느낌40분, 뒤, 물, 뭔가, 전, 느낌보들보들한, 났어요물론, 육안, 사용, 것, 느낌입니당열심히, 써봐야지지금까지, 송수니, 솔직리뷰'"
      ]
     },
     "execution_count": 19,
     "metadata": {},
     "output_type": "execute_result"
    }
   ],
   "source": [
    "', '.join(hannanum.nouns(test))"
   ]
  },
  {
   "cell_type": "code",
   "execution_count": 20,
   "metadata": {},
   "outputs": [],
   "source": [
    "def nouns_hannanum(x):\n",
    "    return ', '.join(hannanum.nouns(x))"
   ]
  },
  {
   "cell_type": "code",
   "execution_count": 21,
   "metadata": {},
   "outputs": [],
   "source": [
    "def nouns_kkma(x):\n",
    "    return ', '.join(kkma.nouns(x))"
   ]
  },
  {
   "cell_type": "code",
   "execution_count": 22,
   "metadata": {},
   "outputs": [],
   "source": [
    "def nouns_komoran(x):\n",
    "    return ', '.join(komoran.nouns(x))"
   ]
  },
  {
   "cell_type": "code",
   "execution_count": 23,
   "metadata": {},
   "outputs": [],
   "source": [
    "def nouns_kot(x):\n",
    "    return ', '.join(okt.nouns(x))"
   ]
  },
  {
   "cell_type": "code",
   "execution_count": 24,
   "metadata": {},
   "outputs": [],
   "source": [
    "test_df = df.copy()"
   ]
  },
  {
   "cell_type": "code",
   "execution_count": 26,
   "metadata": {},
   "outputs": [],
   "source": [
    "test_df['nouns_hannanum'] = test_df['maincontant'].apply(lambda x: nouns_hannanum(x))\n",
    "test_df['nouns_kkma'] = test_df['maincontant'].apply(lambda x: nouns_kkma(x))\n",
    "test_df['nouns_komoran'] = test_df['maincontant'].apply(lambda x: nouns_komoran(x))\n",
    "test_df['nouns_kot'] = test_df['maincontant'].apply(lambda x: nouns_kot(x))"
   ]
  },
  {
   "cell_type": "code",
   "execution_count": 29,
   "metadata": {},
   "outputs": [],
   "source": [
    "test_df.columns = ['title', 'blogurl', 'writedate', 'maincontant', 'nouns_hannanum',\n",
    "       'nouns_kkma', 'nouns_komoran', 'nouns_okt']"
   ]
  },
  {
   "cell_type": "code",
   "execution_count": 31,
   "metadata": {},
   "outputs": [],
   "source": [
    "col_list = ['nouns_hannanum','nouns_kkma', 'nouns_komoran', 'nouns_okt']\n",
    "test_df['only_hannanum'] = ''\n",
    "test_df['only_kkma'] = ''\n",
    "test_df['only_komoran'] = ''\n",
    "test_df['onely_okt'] = ''"
   ]
  },
  {
   "cell_type": "code",
   "execution_count": 78,
   "metadata": {},
   "outputs": [],
   "source": [
    "test_df = pd.read_csv(\"클래스마다 다른 nouns.csv\", encoding='utf-8', engine = 'python')"
   ]
  },
  {
   "cell_type": "code",
   "execution_count": 31,
   "metadata": {},
   "outputs": [],
   "source": [
    "col_list = ['title', 'blogurl', 'writedate', 'maincontant', 'nouns_hannanum',\n",
    "       'nouns_kkma', 'nouns_komoran', 'nouns_okt']"
   ]
  },
  {
   "cell_type": "code",
   "execution_count": 32,
   "metadata": {},
   "outputs": [],
   "source": [
    "for col in col_list:\n",
    "    df = df[df[col].notnull()]"
   ]
  },
  {
   "cell_type": "code",
   "execution_count": 33,
   "metadata": {},
   "outputs": [],
   "source": [
    "df = df.reset_index(drop=True)"
   ]
  },
  {
   "cell_type": "code",
   "execution_count": 35,
   "metadata": {},
   "outputs": [],
   "source": [
    "df.to_csv(\"클래스마다 다른 nouns.csv\", encoding='utf-8', index=False)"
   ]
  },
  {
   "cell_type": "code",
   "execution_count": 36,
   "metadata": {},
   "outputs": [],
   "source": [
    "col_list = ['nouns_hannanum',' nouns_kkma', 'nouns_komoran', 'nouns_okt']"
   ]
  },
  {
   "cell_type": "code",
   "execution_count": 113,
   "metadata": {},
   "outputs": [],
   "source": [
    "col_list = ['nouns_hannanum', 'nouns_kkma', 'nouns_komoran', 'nouns_okt']"
   ]
  },
  {
   "cell_type": "code",
   "execution_count": 117,
   "metadata": {
    "scrolled": true
   },
   "outputs": [],
   "source": [
    "for i in range(len(test_df)):\n",
    "    for col in col_list:\n",
    "        if col == 'nouns_hannanum':\n",
    "            tmp_list = []\n",
    "            tmp = test_df['nouns_hannanum'][i]\n",
    "            target = tmp.split(', ')\n",
    "\n",
    "            tmp2 = test_df['nouns_kkma'][i]\n",
    "            tmp3 = test_df['nouns_komoran'][i]\n",
    "            tmp4 = test_df['nouns_okt'][i]\n",
    "\n",
    "            comparison = set((tmp2 + tmp3 + tmp4).split(', '))\n",
    "\n",
    "            tmp_list = []\n",
    "            for word in target:\n",
    "                if word not in comparison:\n",
    "                    tmp_list.append(word)\n",
    "            test_df['only_hannanum'][i] = ', '.join(set(tmp_list))\n",
    "            \n",
    "        elif col == 'nouns_kkma':\n",
    "            tmp_list = []\n",
    "            tmp = test_df['nouns_kkma'][i]\n",
    "            target = tmp.split(', ')\n",
    "            tmp2 = test_df['nouns_hannanum'][i]\n",
    "            tmp3 = test_df['nouns_komoran'][i]\n",
    "            tmp4 = test_df['nouns_okt'][i]\n",
    "\n",
    "            comparison = set((tmp2 + tmp3 + tmp4).split(', '))\n",
    "\n",
    "            tmp_list = []\n",
    "            for word in target:\n",
    "                if word not in comparison:\n",
    "                    tmp_list.append(word)\n",
    "                    \n",
    "            text = ', '.join(set(tmp_list))\n",
    "                \n",
    "            test_df['only_kkma'][i] = ', '.join(set(tmp_list))\n",
    "            \n",
    "            \n",
    "        if col == 'nouns_komoran':\n",
    "            tmp_list = []\n",
    "            tmp = test_df[col][i]\n",
    "            target = tmp.split(', ')\n",
    "\n",
    "            tmp2 = test_df['nouns_hannanum'][i]\n",
    "            tmp3 = test_df['nouns_kkma'][i]\n",
    "            tmp4 = test_df['nouns_okt'][i]\n",
    "\n",
    "            comparison = set((tmp2 + tmp3 + tmp4).split(', '))\n",
    "\n",
    "            tmp_list = []\n",
    "            for word in target:\n",
    "                if word not in comparison:\n",
    "                    tmp_list.append(word)\n",
    "            \n",
    "            test_df['only_komoran'][i] = ', '.join(set(tmp_list))\n",
    "            \n",
    "            \n",
    "        if col == 'nouns_okt':\n",
    "            tmp_list = []\n",
    "            tmp = test_df[col][i]\n",
    "            target = tmp.split(', ')\n",
    "\n",
    "            tmp2 = test_df['nouns_hannanum'][i]\n",
    "            tmp3 = test_df['nouns_kkma'][i]\n",
    "            tmp4 = test_df['nouns_komoran'][i]\n",
    "\n",
    "            comparison = set((tmp2 + tmp3 + tmp4).split(', '))\n",
    "\n",
    "            tmp_list = []\n",
    "            for word in target:\n",
    "                if word not in comparison:\n",
    "                    tmp_list.append(word)\n",
    "            test_df['only_okt'][i] = ', '.join(set(tmp_list))"
   ]
  },
  {
   "cell_type": "code",
   "execution_count": 123,
   "metadata": {},
   "outputs": [],
   "source": [
    "test_df.to_csv(\"클래스별 nouns확인.csv\", encoding='utf-8', index=False)"
   ]
  },
  {
   "cell_type": "code",
   "execution_count": 121,
   "metadata": {},
   "outputs": [
    {
     "name": "stdout",
     "output_type": "stream",
     "text": [
      "Hannanum : 왜이래이렇, 하니정말, 써봐야지지금까지, 되가, 반건조하, 모르니화장실, 여러번, 각질제거까지한번, 수행하여모든, 사용하다보명, 처음이었네요뭔, 참조은머드머드팩, 났어요물론, 참아냈답니다시간, 해보세요저, 끝건조시킨, 이런거, 펴바르, 해저천연머드가99이상, 케어할, 저만그런건지, 간지러움, 날까봐, 안바르고기본, 나온답니다그래, 과잉피, 어느정도냐, 안됨90g, 없어요이정도, 케어가능하네요그리, 있다보, 느낌보들보들한, 강력, 큰일나겠더라고요그래서, 천연팩이에요청소년기, 묽더라고요원래, 느낌입니당열심히, 고민했는데그래, 강력한, 간지러웠어요그래서, 하시나요저, 기다렸어요, 된다고하니하, 해요리프팅뿐만아니, 이런건, 없어지더라고요근데, 참조은머드, 근데, 삼투압현상이매우, 송수니입니다겨울철, 편인데그린펄, 예민한, 깜짝놀랐어요손등\n",
      "\n",
      "\n",
      "Kkma : 반건조, 조은머드, 하세, 솔직리뷰, 99, 천연팩, 철, 솔, 조은머드머드팩, 30, 시, 안됨, 손, 장년층, 과잉피지, 기의, 삼투압현상, 딥, 입, 수로, 90, 60, 고, 손등에, 니, 끝건조, 가능, 전, 소년, 직, 등에, 겨울, 느낌입, 클렌징, 99이상, 송, 미온, 안됨90, 수니, 기본도, 40, 미온수로, 요청소년기의, 안녕하세, 요청, 해저천연머드\n",
      "\n",
      "\n",
      "Komoran : 장년, 민, 건지, 이래, 저도, 이정, 참, 어, 도로, 요, 하시나, 본, 들보, 고기, 감성, 라고, 바르, 냐, 이랑, 없어, 60분, 살다가, 근, 데, 안녕하세요\n",
      "\n",
      "\n",
      "Okt : 리프, 수가, 문득, 양, 민감, 만, 건, 건가, 헹구는데, 움, 의, 팅, 편이, 전이, 깜짝, 년층, 중장, 기본, 참조, 어요, 수도, 매우, 지나, 좀, 헹굴까, 그냥, 솔직, 다른, 액, 끼리, 살, 은, 혹시, 보이\n"
     ]
    }
   ],
   "source": [
    "print(\"Hannanum :\", test_df['only_hannanum'][0])\n",
    "print(\"\\n\")\n",
    "print(\"Kkma :\", test_df['only_kkma'][0])\n",
    "print(\"\\n\")\n",
    "print(\"Komoran :\", test_df['only_komoran'][0])\n",
    "print(\"\\n\")\n",
    "print(\"Okt :\", test_df['only_okt'][0])"
   ]
  },
  {
   "cell_type": "code",
   "execution_count": 3,
   "metadata": {},
   "outputs": [],
   "source": [
    "df = pd.read_csv(\"클래스마다 다른 nouns.csv\", encoding='utf-8', engine='python')"
   ]
  },
  {
   "cell_type": "code",
   "execution_count": 4,
   "metadata": {},
   "outputs": [],
   "source": [
    "text = df['maincontant'][0]"
   ]
  },
  {
   "cell_type": "code",
   "execution_count": 2,
   "metadata": {},
   "outputs": [
    {
     "name": "stdout",
     "output_type": "stream",
     "text": [
      "filepath:  C:\\Users\\astak\\Anaconda3\\envs\\t5_test\\lib\\site-packages\n",
      "classpath:  C:\\Users\\astak\\Anaconda3\\envs\\t5_test\\lib\\site-packages\\rhinoMorph/lib/rhino.jar\n",
      "RHINO started!\n"
     ]
    }
   ],
   "source": [
    "rn = rhinoMorph.startRhino()"
   ]
  },
  {
   "cell_type": "code",
   "execution_count": 7,
   "metadata": {},
   "outputs": [],
   "source": [
    "text_analyzed = rhinoMorph.onlyMorph_list(rn, text, pos=['NNG', 'NNP', 'NP', 'VV', 'VA', 'XR', 'IC', 'MM', 'MAG', 'MAJ'], eomi=True)"
   ]
  },
  {
   "cell_type": "code",
   "execution_count": 10,
   "metadata": {},
   "outputs": [
    {
     "name": "stdout",
     "output_type": "stream",
     "text": [
      "\n",
      "4. 형태소 분석 결과:\n",
      "morphs: ['안녕', '하', '시', '어요', '-', '송수', '니', '이', 'ㅂ', '니', '다', '겨울철', '피부', '관리', '어떻하', '게', '하', '시', '나요', '저', '는', '집', '에', '만', '있', '다', '보', '니까', '세수', '도', '잘', '알', 'ㄴ', '하고', '로션', '도', '잘', '알', 'ㄴ', '바르', '고', '기본', '도', '안', '하고', '살', '고', '있', '었', '네요', '....', '그러', '다가', '문득', '거울', '을', '보', '았', '는데', '피부', '왜', '이러하', '아', '이렇게', '살', '다가', '는', '정말', '큰일', '나', '겠', '더라', '고요', '그래', '어서', '이번', '에', '오랜만', '에', '머드', '팩', '을', '한번', '하', '아', '보', '았', '습니다', '참조', '은', '머드', '머드', '팩', '한국', '남해', '바다', '속', '에서', '발굴', '하', 'ㄴ', '청정', '해저', '천연', '머드', '가', '99', '이상', '함유', '되', 'ㄴ', '천연원', '머드', '팩', '유해성', '화학', '성분', '화학', '방부제', '까지', '제로', '라고', '하', '너', '정말', '믿', '고', '사용', '하', 'ㄹ', '수', '있', '겠', '어요', '참조', '은', '머드', '의', '그리', 'ㄴ', '펄', '은', '천연', '머드', '의', '특유', '의', '삼투압', '현상', '이', '매', '우', '강력', '하', '게', '발휘', '되', '어', '딥', '클렌징', '과', '영양', '공급', '을', '동시', '에', '수행', '하', '아', '모', '든', '피부', '트러블', '을', '케어', '하', 'ㄹ', '수', '있', '는', '멀티', '기능', '의', '천연', '팩', '이', '에', '요', '청소년', '기', '의', '트러블', '중', '장년', '층', '의', '트러블', '에', '도', '도움', '이', '되', 'ㄴ다고', '하', '너', '하', '나', '있', '으면', '가족', '끼리', '같이', '사용', '하', 'ㄹ', '수', '도', '있', '어요', '.', '근데', '양이', '얼마', '알', 'ㄴ', '되', 'ㅁ', '90', 'g', '참조', '은', '머드', '그린', '펄', '은', '강력', '하', 'ㄴ', '리프', '팅', '과', '보습', '기능', '을', '발휘', '하', '아서', '탄력', '있', '는', '피부', '로', '만들', '어', '주', 'ㄴ다고', '해', '요리', '프', '팅', '뿐', '만', '아니', '라', '블랙', '헤드', '과잉', '피지', '넓', '은', '모공', '각질', '저', '의', '거', '까', '지한', '번', '에', '케어', '가', '능하', '네', '요', '그리', '고', '민감', '성', '피부', '이', 'ㄴ', '분', '들', '도', '사용', '가능', '하', 'ㄴ', '천연', '머드', '팩', '이', '에요', '.', '저', '도', '좀', '예민', '하', 'ㄴ', '편', '이', '라', '새롭', 'ㄴ', '제품', '쓰', '면', '트러블', '날', '까', '보', '아', '걱정', '하', '는', '편', '이', 'ㄴ', '데', '그린', '펄', '은', '괜찮', '았', '어요', '사용', '방법', '은', '세안', '후', '얼굴', '에', '골고루', '펴', '바르', '면', '끝', '것', 'ㄴ', '조', '시키', 'ㄴ', '후', '30', '분', '60', '분', '사이', '에', '미온', '수로', '닦', '아', '내', '면', '되', '어요', '.', '민감', '성', '피부', '는', '반건조', '하', '라고', '써', '지', '어', '있', '네요', '처음', '에', '깜짝', '놀라', '았', '어요', '손등', '에', '짜', '보', '았', '는데', '많이', '묽', '더라고', '요원', '래', '이런', '것', '이', 'ㄴ가', '하', '았', '는데', '처음', '만', '이리하', 'ㄴ', '것', '였', '어요', '사용', '하', '다', '보명', '이렇게', '덩어리', '로', '나오', 'ㄴ', '답', '니', '다그', '도', '처음', '짜', '시', '는', '분', '들', '은', '혹시', '모르', '너', '화장실', '가', '아서', '해보', '시', '어요', '저', '는', '테이블', '바닥', '에', '흘리', '어서', '좀', '닦', '았', '네요', '저', '는', '얼굴', '전체', '에', '바르', '고', '40', '분', '정도', '기다리', '었', '어', '요', '와', '...', '이것', '저만', '그런', '건지', '이', 'ㄴ지', '모르', '아도', '엄청', '간지럽', '었', '어', '요', '그래', '어서', '여러', '벌', 'ㄴ', '그냥', '물', '로', '헹', '굴', '까', '고민', '하', '았', '는', '데', '그래', '도', '잘', '참', '아', '내', '었', '니', '다', '시간', '이', '좀', '지나', '니까', '간지럽', 'ㅁ', '도', '없', '어', '지', '더라', '고', '요', '근', '데', '간지럽', 'ㅁ', '은', '사라지', '고', '엄청', '쪼이', '는', '느낌', '진심', '어느', '정도', '냐면', '눈', '을', '자연', '스럽', '게', '가', 'ㅁ', '을', '수', '가', '없', '어요', '이정', '도', '로', '쪼이', '는', '팩', '은', '처음', '이', '었', '네', '요', '무엇', 'ㄴ가', '잘', '되', '가', '고', '있', '는', '느낌', '40', '분', '뒤', '에', '물', '로', '헹구', '는데', '무엇', 'ㄴ가', '전이', '랑', '다른', '느낌', '보들보들', '하', 'ㄴ', '느낌', '이', '나', '았', '어', '요물', '로', 'ㄴ', '육안', '으로', '보이', '지', '는', '않', '지만', '.....', '꾸준히', '사용', '하', '면', '충분히', '보일', '것', '같', '은', '느낌', '이', 'ㅂ', '니', '당', '열심히', '써', '보', '아야지', '지금', '까지', '송수', '너', '의', '솔직', '리뷰', '이', '었', '습니다']\n",
      "poses: ['NNG', 'VV', 'EP', 'EF', 'SW', 'NNG', 'EC', 'VCP', 'EP', 'EC', 'MAG', 'NNG', 'NNG', 'NNG', 'VA', 'EC', 'VX', 'EP', 'EF', 'NP', 'JX', 'NNG', 'JKB', 'JX', 'VV', 'EC', 'VX', 'EC', 'NNG', 'JX', 'MAG', 'VV', 'ETM', 'JC', 'NNG', 'JX', 'MAG', 'VV', 'ETM', 'VV', 'EC', 'NNG', 'JX', 'MAG', 'JC', 'VV', 'EC', 'VX', 'EP', 'EF', 'SE', 'VV', 'EC', 'MAG', 'NNG', 'JKO', 'VV', 'EP', 'EC', 'NNG', 'MAG', 'VA', 'EF', 'MAG', 'VV', 'EC', 'JX', 'MAG', 'NNG', 'JX', 'NA', 'EF', 'NNG', 'MAG', 'EC', 'NNG', 'JKB', 'NNG', 'JKB', 'NNG', 'NNG', 'JKO', 'MAG', 'VV', 'EC', 'VX', 'EP', 'EF', 'NNG', 'JX', 'NNG', 'NNG', 'NNG', 'NNP', 'NNP', 'NNG', 'NNG', 'JKB', 'NNG', 'VV', 'ETM', 'NNG', 'NNG', 'NNG', 'NNG', 'NNG', 'SN', 'NNG', 'XR', 'VV', 'ETM', 'NNP', 'NNG', 'NNG', 'NNP', 'NNG', 'NNG', 'NNG', 'NNG', 'JX', 'NNG', 'EC', 'VX', 'NP', 'MAG', 'VV', 'EC', 'XR', 'XSV', 'ETM', 'NNB', 'VV', 'EP', 'EF', 'NNG', 'ETM', 'NNG', 'JKG', 'VV', 'ETM', 'NNG', 'JX', 'NNG', 'NNG', 'JKG', 'NNG', 'JKG', 'NNG', 'NNG', 'JKS', 'NNG', 'EF', 'XR', 'XSV', 'EC', 'XR', 'VV', 'EC', 'NNG', 'NNG', 'JC', 'NNG', 'NNG', 'JKO', 'NNG', 'JKB', 'XR', 'XSV', 'EC', 'NNG', 'EC', 'NNG', 'NNG', 'JKO', 'NNG', 'VV', 'ETM', 'NNB', 'VX', 'ETM', 'NNG', 'NNG', 'JKG', 'NNG', 'NNG', 'JKS', 'JKB', 'EF', 'NNG', 'ETN', 'JKG', 'NNG', 'NNG', 'NNG', 'XSN', 'JKG', 'NNG', 'JKB', 'JX', 'NNG', 'JKS', 'VV', 'EC', 'XSV', 'NP', 'VV', 'EC', 'VV', 'EC', 'NNG', 'XSN', 'MAG', 'XR', 'XSV', 'ETM', 'NNB', 'JX', 'VV', 'EF', 'SF', 'MAJ', 'NNG', 'NNG', 'VV', 'ETM', 'VV', 'ETN', 'SN', 'SL', 'NNG', 'ETM', 'NNG', 'NNG', 'NNG', 'JX', 'XR', 'XSV', 'ETM', 'NNG', 'MAG', 'JC', 'NNG', 'NNG', 'JKO', 'XR', 'XSV', 'EC', 'NNG', 'VX', 'ETM', 'NNG', 'JKB', 'VV', 'EC', 'VX', 'EC', 'NNG', 'NNG', 'VX', 'MAG', 'JX', 'JX', 'VCN', 'EC', 'NNG', 'NNG', 'NNG', 'NNG', 'VA', 'ETM', 'NNG', 'NNG', 'NP', 'JKG', 'EC', 'EF', 'NNG', 'NNB', 'JKB', 'NNG', 'JKS', 'VA', 'XSN', 'EF', 'VV', 'EC', 'NNG', 'XSN', 'NNG', 'VCP', 'ETM', 'XSN', 'XSN', 'JX', 'NNG', 'NNG', 'VV', 'ETM', 'NNG', 'NNG', 'NNG', 'VCP', 'EF', 'SF', 'NNP', 'JX', 'MAG', 'XR', 'XSV', 'ETM', 'NNG', 'JKS', 'EF', 'VA', 'ETM', 'NNG', 'VV', 'EC', 'NNG', 'NNG', 'VV', 'VX', 'EC', 'XR', 'XSV', 'ETM', 'NNB', 'VCP', 'ETM', 'EF', 'NNG', 'NNG', 'JX', 'VA', 'EP', 'EF', 'NNG', 'NNG', 'JX', 'NNG', 'NNG', 'NNG', 'JKB', 'MAG', 'VV', 'VV', 'EC', 'NNG', 'NNB', 'JX', 'NR', 'VV', 'ETM', 'NNG', 'SN', 'NNB', 'SN', 'NNB', 'NNG', 'JKB', 'NNG', 'NNG', 'VV', 'EC', 'VX', 'EC', 'VV', 'EF', 'SF', 'NNG', 'XSN', 'NNG', 'JX', 'NNG', 'VV', 'EC', 'MAG', 'VX', 'EC', 'VX', 'EF', 'NNG', 'JKB', 'MAG', 'VV', 'EP', 'EF', 'NNG', 'JKB', 'VV', 'VX', 'EP', 'EC', 'MAG', 'VA', 'EC', 'NNG', 'EF', 'MM', 'NNB', 'VCP', 'EF', 'VV', 'EP', 'EC', 'NNG', 'NR', 'VV', 'ETM', 'NNB', 'NA', 'EF', 'XR', 'XSV', 'EF', 'NNG', 'MAG', 'NNG', 'JKB', 'VV', 'ETM', 'NNG', 'EC', 'VV', 'NNG', 'NNG', 'VV', 'EP', 'ETM', 'XSN', 'XSN', 'JX', 'MAG', 'VV', 'NP', 'NNG', 'VV', 'EC', 'VV', 'EP', 'EF', 'NP', 'JX', 'NNG', 'NNG', 'JKB', 'VV', 'EC', 'MAG', 'VV', 'EP', 'EF', 'NP', 'JX', 'NNG', 'NNG', 'JKB', 'VV', 'EC', 'SN', 'NNB', 'NNG', 'VV', 'EP', 'EC', 'MM', 'JC', 'SE', 'NP', 'MM', 'MM', 'NNB', 'VCP', 'EC', 'VV', 'EC', 'MAG', 'VA', 'EP', 'EC', 'MM', 'MAG', 'EC', 'MM', 'VV', 'ETM', 'MAG', 'VV', 'JKB', 'IC', 'VV', 'EF', 'XR', 'XSV', 'EP', 'JX', 'EF', 'IC', 'NNG', 'MAG', 'VV', 'EC', 'VX', 'EP', 'EC', 'MAG', 'NNG', 'JKS', 'MAG', 'VV', 'EC', 'VA', 'ETN', 'JX', 'VA', 'EC', 'VX', 'EF', 'EC', 'EF', 'NNG', 'EF', 'VA', 'ETN', 'JX', 'VV', 'EC', 'MAG', 'VV', 'JX', 'NNG', 'NNG', 'MM', 'NNG', 'EC', 'NNG', 'JKO', 'NNG', 'XSA', 'EC', 'NNG', 'ETN', 'JKO', 'NNB', 'JKS', 'VA', 'EF', 'NNG', 'JX', 'JKB', 'VV', 'JX', 'NNG', 'JX', 'NNG', 'JKS', 'NA', 'XSN', 'EF', 'NP', 'EC', 'MAG', 'VV', 'VX', 'EC', 'VX', 'ETM', 'NNG', 'SN', 'NNB', 'NNG', 'JKB', 'VV', 'JKB', 'VV', 'EC', 'NP', 'EC', 'NNG', 'JKB', 'MM', 'NNG', 'MAG', 'VV', 'ETM', 'NNG', 'JKS', 'VV', 'EP', 'EC', 'NNG', 'JKB', 'JX', 'NNG', 'JKB', 'VV', 'VX', 'JX', 'VX', 'EC', 'SE', 'MAG', 'XR', 'XSV', 'EC', 'MAG', 'NNP', 'NNB', 'VA', 'ETM', 'NNG', 'VCP', 'EP', 'EC', 'NNG', 'MAG', 'MAG', 'VV', 'EF', 'NNG', 'JX', 'NNG', 'NP', 'JKG', 'XR', 'NNG', 'VCP', 'EP', 'EF']\n"
     ]
    }
   ],
   "source": [
    "morphs, poses = rhinoMorph.wholeResult_list(rn, text)\n",
    "\n",
    "print('\\n4. 형태소 분석 결과:')\n",
    "\n",
    "print('morphs:', morphs)\n",
    "\n",
    "print('poses:', poses)"
   ]
  },
  {
   "cell_type": "code",
   "execution_count": 11,
   "metadata": {},
   "outputs": [
    {
     "name": "stdout",
     "output_type": "stream",
     "text": [
      "\n",
      "5. 형태소 분석 결과:\n",
      " 안녕하세요\t안녕/NNG + 하/VV + 시/EP + 어요/EF\r\n",
      "-\t-/SW\r\n",
      "송수니입니다겨울철\t송수/NNG + 니/EC + 이/VCP + ㅂ/EP + 니/EC + 다/MAG + 겨울철/NNG\r\n",
      "피부관리\t피부/NNG + 관리/NNG\r\n",
      "어떻게\t어떻하/VA + 게/EC\r\n",
      "하시나요저는\t하/VX + 시/EP + 나요/EF + 저/NP + 는/JX\r\n",
      "집에만\t집/NNG + 에/JKB + 만/JX\r\n",
      "있다보니까\t있/VV + 다/EC + 보/VX + 니까/EC\r\n",
      "세수도\t세수/NNG + 도/JX\r\n",
      "잘\t잘/MAG\r\n",
      "안하고\t알/VV + ㄴ/ETM + 하고/JC\r\n",
      "로션도\t로션/NNG + 도/JX\r\n",
      "잘\t잘/MAG\r\n",
      "안바르고기본도\t알/VV + ㄴ/ETM + 바르/VV + 고/EC + 기본/NNG + 도/JX\r\n",
      "안하고\t안/MAG + 하고/JC\r\n",
      "살고\t살/VV + 고/EC\r\n",
      "있었네요\t있/VX + 었/EP + 네요/EF\r\n",
      "....\t..../SE\r\n",
      "그러다가\t그러/VV + 다가/EC\r\n",
      "문득\t문득/MAG\r\n",
      "거울을\t거울/NNG + 을/JKO\r\n",
      "봤는데\t보/VV + 았/EP + 는데/EC\r\n",
      "피부\t피부/NNG\r\n",
      "왜이래이렇게\t왜/MAG + 이러하/VA + 아/EF + 이렇게/MAG\r\n",
      "살다가는\t살/VV + 다가/EC + 는/JX\r\n",
      "정말\t정말/MAG\r\n",
      "큰일나겠더라고요그래서\t큰일/NNG + 나/JX + 겠/NA + 더라/EF + 고요/NNG + 그래/MAG + 어서/EC\r\n",
      "이번에\t이번/NNG + 에/JKB\r\n",
      "오랜만에\t오랜만/NNG + 에/JKB\r\n",
      "머드팩을\t머드/NNG + 팩/NNG + 을/JKO\r\n",
      "한번\t한번/MAG\r\n",
      "해봤습니다\t하/VV + 아/EC + 보/VX + 았/EP + 습니다/EF\r\n",
      "참조은머드머드팩\t참조/NNG + 은/JX + 머드/NNG + 머드/NNG + 팩/NNG\r\n",
      "한국\t한국/NNP\r\n",
      "남해바다속에서\t남해/NNP + 바다/NNG + 속/NNG + 에서/JKB\r\n",
      "발굴한\t발굴/NNG + 하/VV + ㄴ/ETM\r\n",
      "청정\t청정/NNG\r\n",
      "해저천연머드가99이상\t해저/NNG + 천연/NNG + 머드/NNG + 가/NNG + 99/SN + 이상/NNG\r\n",
      "함유된\t함유/XR + 되/VV + ㄴ/ETM\r\n",
      "천연원액의\t천연원/NNP\r\n",
      "머드팩유해성분\t머드/NNG + 팩/NNG + 유해성/NNP\r\n",
      "화학성분\t화학/NNG + 성분/NNG\r\n",
      "화학방부제까지\t화학/NNG + 방부제/NNG + 까지/JX\r\n",
      "제로라고\t제로/NNG + 라고/EC\r\n",
      "하니정말\t하/VX + 너/NP + 정말/MAG\r\n",
      "믿고\t믿/VV + 고/EC\r\n",
      "사용할\t사용/XR + 하/XSV + ㄹ/ETM\r\n",
      "수\t수/NNB\r\n",
      "있겠어요\t있/VV + 겠/EP + 어요/EF\r\n",
      "참조은머드의\t참조/NNG + 은/ETM + 머드/NNG + 의/JKG\r\n",
      "그린펄은\t그리/VV + ㄴ/ETM + 펄/NNG + 은/JX\r\n",
      "천연머드의\t천연/NNG + 머드/NNG + 의/JKG\r\n",
      "특유의\t특유/NNG + 의/JKG\r\n",
      "삼투압현상이매우\t삼투압/NNG + 현상/NNG + 이/JKS + 매/NNG + 우/EF\r\n",
      "강력하게\t강력/XR + 하/XSV + 게/EC\r\n",
      "발휘되어\t발휘/XR + 되/VV + 어/EC\r\n",
      "딥클렌징과\t딥/NNG + 클렌징/NNG + 과/JC\r\n",
      "영양공급을\t영양/NNG + 공급/NNG + 을/JKO\r\n",
      "동시에\t동시/NNG + 에/JKB\r\n",
      "수행하여모든\t수행/XR + 하/XSV + 아/EC + 모/NNG + 든/EC\r\n",
      "피부트러블을\t피부/NNG + 트러블/NNG + 을/JKO\r\n",
      "케어할\t케어/NNG + 하/VV + ㄹ/ETM\r\n",
      "수\t수/NNB\r\n",
      "있는\t있/VX + 는/ETM\r\n",
      "멀티기능의\t멀티/NNG + 기능/NNG + 의/JKG\r\n",
      "천연팩이에요청소년기의\t천연/NNG + 팩/NNG + 이/JKS + 에/JKB + 요/EF + 청소년/NNG + 기/ETN + 의/JKG\r\n",
      "트러블\t트러블/NNG\r\n",
      "중장년층의\t중/NNG + 장년/NNG + 층/XSN + 의/JKG\r\n",
      "트러블에도\t트러블/NNG + 에/JKB + 도/JX\r\n",
      "도움이\t도움/NNG + 이/JKS\r\n",
      "된다고하니하나\t되/VV + ㄴ다고/EC + 하/XSV + 너/NP + 하/VV + 나/EC\r\n",
      "있으면\t있/VV + 으면/EC\r\n",
      "가족끼리\t가족/NNG + 끼리/XSN\r\n",
      "같이\t같이/MAG\r\n",
      "사용할\t사용/XR + 하/XSV + ㄹ/ETM\r\n",
      "수도\t수/NNB + 도/JX\r\n",
      "있어요\t있/VV + 어요/EF\r\n",
      ".\t./SF\r\n",
      "근데\t근데/MAJ\r\n",
      "양이\t양이/NNG\r\n",
      "얼마\t얼마/NNG\r\n",
      "안됨90g\t알/VV + ㄴ/ETM + 되/VV + ㅁ/ETN + 90/SN + g/SL\r\n",
      "참조은머드\t참조/NNG + 은/ETM + 머드/NNG\r\n",
      "그린펄은\t그린/NNG + 펄/NNG + 은/JX\r\n",
      "강력한\t강력/XR + 하/XSV + ㄴ/ETM\r\n",
      "리프팅과\t리프/NNG + 팅/MAG + 과/JC\r\n",
      "보습\t보습/NNG\r\n",
      "기능을\t기능/NNG + 을/JKO\r\n",
      "발휘해서\t발휘/XR + 하/XSV + 아서/EC\r\n",
      "탄력있는\t탄력/NNG + 있/VX + 는/ETM\r\n",
      "피부로\t피부/NNG + 로/JKB\r\n",
      "만들어준다고\t만들/VV + 어/EC + 주/VX + ㄴ다고/EC\r\n",
      "해요리프팅뿐만아니라\t해/NNG + 요리/NNG + 프/VX + 팅/MAG + 뿐/JX + 만/JX + 아니/VCN + 라/EC\r\n",
      "블랙헤드\t블랙/NNG + 헤드/NNG\r\n",
      "과잉피지\t과잉/NNG + 피지/NNG\r\n",
      "넓은\t넓/VA + 은/ETM\r\n",
      "모공\t모공/NNG\r\n",
      "각질제거까지한번에\t각질/NNG + 저/NP + 의/JKG + 거/EC + 까/EF + 지한/NNG + 번/NNB + 에/JKB\r\n",
      "케어가능하네요그리고\t케어/NNG + 가/JKS + 능하/VA + 네/XSN + 요/EF + 그리/VV + 고/EC\r\n",
      "민감성\t민감/NNG + 성/XSN\r\n",
      "피부인\t피부/NNG + 이/VCP + ㄴ/ETM\r\n",
      "분들도\t분/XSN + 들/XSN + 도/JX\r\n",
      "사용가능한\t사용/NNG + 가능/NNG + 하/VV + ㄴ/ETM\r\n",
      "천연머드팩이에요\t천연/NNG + 머드/NNG + 팩/NNG + 이/VCP + 에요/EF\r\n",
      ".\t./SF\r\n",
      "저도\t저/NNP + 도/JX\r\n",
      "좀\t좀/MAG\r\n",
      "예민한\t예민/XR + 하/XSV + ㄴ/ETM\r\n",
      "편이라\t편/NNG + 이/JKS + 라/EF\r\n",
      "새로운\t새롭/VA + ㄴ/ETM\r\n",
      "제품\t제품/NNG\r\n",
      "쓰면\t쓰/VV + 면/EC\r\n",
      "트러블\t트러블/NNG\r\n",
      "날까봐\t날/NNG + 까/VV + 보/VX + 아/EC\r\n",
      "걱정하는\t걱정/XR + 하/XSV + 는/ETM\r\n",
      "편인데그린펄은\t편/NNB + 이/VCP + ㄴ/ETM + 데/EF + 그린/NNG + 펄/NNG + 은/JX\r\n",
      "괜찮았어요\t괜찮/VA + 았/EP + 어요/EF\r\n",
      "사용방법은\t사용/NNG + 방법/NNG + 은/JX\r\n",
      "세안\t세안/NNG\r\n",
      "후\t후/NNG\r\n",
      "얼굴에\t얼굴/NNG + 에/JKB\r\n",
      "골고루\t골고루/MAG\r\n",
      "펴바르면\t펴/VV + 바르/VV + 면/EC\r\n",
      "끝건조시킨\t끝/NNG + 것/NNB + ㄴ/JX + 조/NR + 시키/VV + ㄴ/ETM\r\n",
      "후\t후/NNG\r\n",
      "30분60분\t30/SN + 분/NNB + 60/SN + 분/NNB\r\n",
      "사이에\t사이/NNG + 에/JKB\r\n",
      "미온수로\t미온/NNG + 수로/NNG\r\n",
      "닦아내면\t닦/VV + 아/EC + 내/VX + 면/EC\r\n",
      "돼요\t되/VV + 어요/EF\r\n",
      ".\t./SF\r\n",
      "민감성\t민감/NNG + 성/XSN\r\n",
      "피부는\t피부/NNG + 는/JX\r\n",
      "반건조하라고\t반건조/NNG + 하/VV + 라고/EC\r\n",
      "써져있네요\t써/MAG + 지/VX + 어/EC + 있/VX + 네요/EF\r\n",
      "처음에\t처음/NNG + 에/JKB\r\n",
      "깜짝놀랐어요손등에\t깜짝/MAG + 놀라/VV + 았/EP + 어요/EF + 손등/NNG + 에/JKB\r\n",
      "짜보았는데\t짜/VV + 보/VX + 았/EP + 는데/EC\r\n",
      "많이\t많이/MAG\r\n",
      "묽더라고요원래\t묽/VA + 더라고/EC + 요원/NNG + 래/EF\r\n",
      "이런건가\t이런/MM + 것/NNB + 이/VCP + ㄴ가/EF\r\n",
      "했는데\t하/VV + 았/EP + 는데/EC\r\n",
      "처음만\t처음/NNG + 만/NR\r\n",
      "이런거였어요\t이리하/VV + ㄴ/ETM + 것/NNB + 였/NA + 어요/EF\r\n",
      "사용하다보명\t사용/XR + 하/XSV + 다/EF + 보명/NNG\r\n",
      "이렇게\t이렇게/MAG\r\n",
      "덩어리로\t덩어리/NNG + 로/JKB\r\n",
      "나온답니다그래도\t나오/VV + ㄴ/ETM + 답/NNG + 니/EC + 다그/VV + 도/NNG\r\n",
      "처음\t처음/NNG\r\n",
      "짜시는\t짜/VV + 시/EP + 는/ETM\r\n",
      "분들은\t분/XSN + 들/XSN + 은/JX\r\n",
      "혹시\t혹시/MAG\r\n",
      "모르니화장실\t모르/VV + 너/NP + 화장실/NNG\r\n",
      "가서\t가/VV + 아서/EC\r\n",
      "해보세요저는\t해보/VV + 시/EP + 어요/EF + 저/NP + 는/JX\r\n",
      "테이블\t테이블/NNG\r\n",
      "바닥에\t바닥/NNG + 에/JKB\r\n",
      "흘려서\t흘리/VV + 어서/EC\r\n",
      "좀\t좀/MAG\r\n",
      "닦았네요\t닦/VV + 았/EP + 네요/EF\r\n",
      "저는\t저/NP + 는/JX\r\n",
      "얼굴\t얼굴/NNG\r\n",
      "전체에\t전체/NNG + 에/JKB\r\n",
      "바르고\t바르/VV + 고/EC\r\n",
      "40분\t40/SN + 분/NNB\r\n",
      "정도\t정도/NNG\r\n",
      "기다렸어요와\t기다리/VV + 었/EP + 어/EC + 요/MM + 와/JC\r\n",
      "...\t.../SE\r\n",
      "이거\t이것/NP\r\n",
      "저만그런건지\t저만/MM + 그런/MM + 건지/NNB + 이/VCP + ㄴ지/EC\r\n",
      "몰라도\t모르/VV + 아도/EC\r\n",
      "엄청\t엄청/MAG\r\n",
      "간지러웠어요그래서\t간지럽/VA + 었/EP + 어/EC + 요/MM + 그래/MAG + 어서/EC\r\n",
      "여러번\t여러/MM + 벌/VV + ㄴ/ETM\r\n",
      "그냥\t그냥/MAG\r\n",
      "물로\t물/VV + 로/JKB\r\n",
      "헹굴까\t헹/IC + 굴/VV + 까/EF\r\n",
      "고민했는데그래도\t고민/XR + 하/XSV + 았/EP + 는/JX + 데/EF + 그래/IC + 도/NNG\r\n",
      "잘\t잘/MAG\r\n",
      "참아냈답니다시간이\t참/VV + 아/EC + 내/VX + 었/EP + 니/EC + 다/MAG + 시간/NNG + 이/JKS\r\n",
      "좀\t좀/MAG\r\n",
      "지나니까\t지나/VV + 니까/EC\r\n",
      "간지러움도\t간지럽/VA + ㅁ/ETN + 도/JX\r\n",
      "없어지더라고요근데\t없/VA + 어/EC + 지/VX + 더라/EF + 고/EC + 요/EF + 근/NNG + 데/EF\r\n",
      "간지러움은\t간지럽/VA + ㅁ/ETN + 은/JX\r\n",
      "사라지고\t사라지/VV + 고/EC\r\n",
      "엄청\t엄청/MAG\r\n",
      "쪼이는\t쪼이/VV + 는/JX\r\n",
      "느낌진심\t느낌/NNG + 진심/NNG\r\n",
      "어느정도냐면\t어느/MM + 정도/NNG + 냐면/EC\r\n",
      "눈을\t눈/NNG + 을/JKO\r\n",
      "자연스럽게\t자연/NNG + 스럽/XSA + 게/EC\r\n",
      "감을\t가/NNG + ㅁ/ETN + 을/JKO\r\n",
      "수가\t수/NNB + 가/JKS\r\n",
      "없어요이정도로\t없/VA + 어요/EF + 이정/NNG + 도/JX + 로/JKB\r\n",
      "쪼이는\t쪼이/VV + 는/JX\r\n",
      "팩은\t팩/NNG + 은/JX\r\n",
      "처음이었네요뭔가\t처음/NNG + 이/JKS + 었/NA + 네/XSN + 요/EF + 무엇/NP + ㄴ가/EC\r\n",
      "잘\t잘/MAG\r\n",
      "되가고\t되/VV + 가/VX + 고/EC\r\n",
      "있는\t있/VX + 는/ETM\r\n",
      "느낌40분\t느낌/NNG + 40/SN + 분/NNB\r\n",
      "뒤에\t뒤/NNG + 에/JKB\r\n",
      "물로\t물/VV + 로/JKB\r\n",
      "헹구는데\t헹구/VV + 는데/EC\r\n",
      "뭔가\t무엇/NP + ㄴ가/EC\r\n",
      "전이랑\t전이/NNG + 랑/JKB\r\n",
      "다른\t다른/MM\r\n",
      "느낌보들보들한\t느낌/NNG + 보들보들/MAG + 하/VV + ㄴ/ETM\r\n",
      "느낌이\t느낌/NNG + 이/JKS\r\n",
      "났어요물론\t나/VV + 았/EP + 어/EC + 요물/NNG + 로/JKB + ㄴ/JX\r\n",
      "육안으로\t육안/NNG + 으로/JKB\r\n",
      "보이지는\t보이/VV + 지/VX + 는/JX\r\n",
      "않지만\t않/VX + 지만/EC\r\n",
      ".....\t...../SE\r\n",
      "꾸준히\t꾸준히/MAG\r\n",
      "사용하면\t사용/XR + 하/XSV + 면/EC\r\n",
      "충분히\t충분히/MAG\r\n",
      "보일\t보일/NNP\r\n",
      "것\t것/NNB\r\n",
      "같은\t같/VA + 은/ETM\r\n",
      "느낌입니당열심히\t느낌/NNG + 이/VCP + ㅂ/EP + 니/EC + 당/NNG + 열심히/MAG\r\n",
      "써봐야지지금까지\t써/MAG + 보/VV + 아야지/EF + 지금/NNG + 까지/JX\r\n",
      "송수니의\t송수/NNG + 너/NP + 의/JKG\r\n",
      "솔직리뷰였습니다\t솔직/XR + 리뷰/NNG + 이/VCP + 었/EP + 습니다/EF\r\n",
      "\n"
     ]
    }
   ],
   "source": [
    "text_analyzed = rhinoMorph.wholeResult_text(rn, text)\n",
    "\n",
    "print('\\n5. 형태소 분석 결과:\\n', text_analyzed)"
   ]
  },
  {
   "cell_type": "code",
   "execution_count": null,
   "metadata": {},
   "outputs": [],
   "source": []
  }
 ],
 "metadata": {
  "kernelspec": {
   "display_name": "Python 3",
   "language": "python",
   "name": "python3"
  },
  "language_info": {
   "codemirror_mode": {
    "name": "ipython",
    "version": 3
   },
   "file_extension": ".py",
   "mimetype": "text/x-python",
   "name": "python",
   "nbconvert_exporter": "python",
   "pygments_lexer": "ipython3",
   "version": "3.7.9"
  }
 },
 "nbformat": 4,
 "nbformat_minor": 4
}
